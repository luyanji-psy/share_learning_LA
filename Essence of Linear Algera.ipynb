{
 "cells": [
  {
   "cell_type": "markdown",
   "metadata": {},
   "source": [
    "# Essence of Linear Algera\n",
    "This is the notes and exercises I did while learning essence of Linear Algera.<br>\n",
    "Author: Luyan Ji<br><br>\n",
    "\n",
    "<img src=\"img/math_religion.JPG\" width=\"600\">\n",
    "<center>Credit to 3Blue1Brown</center>\n",
    "\n",
    "Reference: \n",
    "* https://www.youtube.com/playlist?list=PLZHQObOWTQDPD3MizzM2xVFitgF8hE_ab\n",
    "* https://www.w3resource.com/python-exercises/numpy/linear-algebra/index.php\n"
   ]
  },
  {
   "cell_type": "code",
   "execution_count": 18,
   "metadata": {},
   "outputs": [],
   "source": [
    "# Load library\n",
    "import numpy as np\n",
    "import matplotlib.pyplot as plt\n",
    "import math"
   ]
  },
  {
   "cell_type": "markdown",
   "metadata": {},
   "source": [
    "### 1. Vector addition\n",
    "$\\begin{bmatrix} 1 \\\\ 2 \\end{bmatrix}  + \\begin{bmatrix} 3 \\\\ 4 \\end{bmatrix} = \\begin{bmatrix} 1+3 \\\\ 2+4 \\end{bmatrix} = \\begin{bmatrix} 4 \\\\ 6 \\end{bmatrix}$"
   ]
  },
  {
   "cell_type": "code",
   "execution_count": 2,
   "metadata": {
    "scrolled": true
   },
   "outputs": [
    {
     "name": "stdout",
     "output_type": "stream",
     "text": [
      "[[4]\n",
      " [6]]\n"
     ]
    },
    {
     "data": {
      "image/png": "[encoded data removed]",
      "text/plain": [
       "<Figure size 432x288 with 1 Axes>"
      ]
     },
     "metadata": {
      "needs_background": "light"
     },
     "output_type": "display_data"
    }
   ],
   "source": [
    "A = np.array([[1],[2]])\n",
    "B = np.array([[3],[4]])\n",
    "C = A+B\n",
    "print (C)\n",
    "\n",
    "plt.plot([0,A[0]],[0,A[1]],'y',label='Vector A', linewidth=1.5)\n",
    "plt.plot([0,B[0]],[0,B[1]],'b',label='Vector B', linewidth=1.5)\n",
    "plt.plot([0,C[0]],[0,C[1]],'g',label='Vector A+B', linewidth=1.5)\n",
    "plt.plot([0,1],[0,0],'r:',label=\"ihat\")\n",
    "plt.plot([0,0],[0,1],'r:',label=\"jhat\")\n",
    "\n",
    "plt.legend()\n",
    "plt.axis('square')\n",
    "plt.axis((-1,7,-1,7))\n",
    "plt.grid()\n",
    "plt.show()\n"
   ]
  },
  {
   "cell_type": "markdown",
   "metadata": {},
   "source": [
    "### 2. Scaling multiplication\n",
    "$2\\begin{bmatrix} 1 \\\\ -1 \\end{bmatrix} = \\begin{bmatrix} 2*1 \\\\ 2*(-1) \\end{bmatrix} = \\begin{bmatrix} 2 \\\\ -2 \\end{bmatrix}$"
   ]
  },
  {
   "cell_type": "code",
   "execution_count": 3,
   "metadata": {},
   "outputs": [
    {
     "name": "stdout",
     "output_type": "stream",
     "text": [
      "[[ 2]\n",
      " [-2]]\n"
     ]
    },
    {
     "data": {
      "image/png": "[encoded data removed]",
      "text/plain": [
       "<Figure size 432x288 with 1 Axes>"
      ]
     },
     "metadata": {
      "needs_background": "light"
     },
     "output_type": "display_data"
    }
   ],
   "source": [
    "scale = 2\n",
    "A = np.array([[1],[-1]])\n",
    "C = scale * A\n",
    "print(C)\n",
    "\n",
    "plt.plot([0,A[0]],[0,A[1]],'y',label='Vector A', linewidth=1.5)\n",
    "plt.plot([0,C[0]],[0,C[1]],'g',label='Vector A, scaled by 2', linewidth=1.5)\n",
    "plt.plot([0,1],[0,0],'r:',label=\"ihat\")\n",
    "plt.plot([0,0],[0,1],'r:',label=\"jhat\")\n",
    "\n",
    "plt.legend()\n",
    "plt.axis('square')\n",
    "plt.axis((-4,4,-4,4))\n",
    "plt.grid()\n",
    "plt.show()\n"
   ]
  },
  {
   "cell_type": "markdown",
   "metadata": {},
   "source": [
    "### 3. Linear transformations and matrices\n",
    "The input vector moved to the output vector through **linear transformation**, where **grid lines remain parallel and evenly spaced, and the origin remains fixed**.<br><br>\n",
    "For example, there is a vector $\\vec{v} = -1\\hat{i} + 2\\hat{j}, \\hat{i} = \\begin{bmatrix} 1 \\\\ 0 \\end{bmatrix}, \\hat{j} = \\begin{bmatrix} 0 \\\\ 1 \\end{bmatrix}$.<br>\n",
    "After linear transformation, the transformed vector $Transfomred\\, \\vec{v} = -1\\,(Transformed \\,\\hat{i}) + 2\\,(Transformed \\,\\hat{j})$. The linear combindation remains the same. If $Transformed \\,\\hat{i} = \\begin{bmatrix} 1 \\\\ -2 \\end{bmatrix}, Transformed \\,\\hat{j} = \\begin{bmatrix} 3 \\\\ 0 \\end{bmatrix}$, then $Transformed \\, \\vec{v} = -1\\begin{bmatrix} 1 \\\\ -2 \\end{bmatrix} + 2\\begin{bmatrix} 3 \\\\ 0 \\end{bmatrix} = \\begin{bmatrix} -1*1 + 2*3 \\\\ -1*(-2) + 2*0 \\end{bmatrix} = \\begin{bmatrix} 5 \\\\ 2 \\end{bmatrix}$.<br><br>\n",
    "The 2 by 2 matrix $\\begin{bmatrix} 1 & 3 \\\\ -2 & 0 \\end{bmatrix}$ tells how did the linear transformation go? $\\begin{bmatrix} 1 \\\\ -2 \\end{bmatrix}$ tells where the transformed $\\hat{i}$ lands, and $\\begin{bmatrix} 3 \\\\ 0 \\end{bmatrix}$ tells where the transformed $\\hat{j}$ lands. Thus,\n",
    "$\\begin{bmatrix} 1 & 3 \\\\ -2 & 0 \\end{bmatrix}\\begin{bmatrix} -1 \\\\ 2 \\end{bmatrix} = -1\\begin{bmatrix} 1 \\\\ -2 \\end{bmatrix} + 2\\begin{bmatrix} 3 \\\\ 0 \\end{bmatrix} = \\begin{bmatrix} 5 \\\\ 2 \\end{bmatrix}$ \n",
    "<br>\n",
    "<br>\n",
    "In general,\n",
    "$$\\begin{bmatrix} a & b \\\\ c & d \\end{bmatrix}\\begin{bmatrix} x \\\\ y \\end{bmatrix} = x\\begin{bmatrix} a \\\\ c \\end{bmatrix} + y\\begin{bmatrix} b \\\\ d \\end{bmatrix} = \\begin{bmatrix} ax+by \\\\ cx+dy \\end{bmatrix}$$\n",
    "<br><br>\n",
    "To be noted, we have to use \"@\" (__matmul__) to do matrix multiplication, or to use np.dot.<br>\n",
    "The * sign is to do cross product, which will be discussed below (point 10)."
   ]
  },
  {
   "cell_type": "code",
   "execution_count": 4,
   "metadata": {},
   "outputs": [
    {
     "name": "stdout",
     "output_type": "stream",
     "text": [
      "[[-1 -3]\n",
      " [-4  0]]\n",
      "[[5]\n",
      " [2]]\n",
      "[[5]\n",
      " [2]]\n"
     ]
    }
   ],
   "source": [
    "M = np.array([[1,3],[-2,0]])\n",
    "v = np.array([[-1],[2]])\n",
    "#print(M, M.shape, type(M))\n",
    "#print(v, v.shape, type(v))\n",
    "print(M*v)\n",
    "print(M @ v) \n",
    "print(np.dot(M,v))"
   ]
  },
  {
   "cell_type": "markdown",
   "metadata": {},
   "source": [
    "### 4. Matrix multiplication as composition\n",
    "$\\begin{bmatrix} a & b \\\\ c & d \\end{bmatrix}\\begin{bmatrix} e & f \\\\ g & h \\end{bmatrix} = \\begin{bmatrix} ae + bg & af + bh \\\\ ce + dg & cf + dh \\end{bmatrix} $<br><br>\n",
    "$\\begin{bmatrix} a & b \\\\ c & d \\end{bmatrix}\\begin{bmatrix} e \\\\ g\\end{bmatrix} = e\\begin{bmatrix} a \\\\ c \\end{bmatrix} + g\\begin{bmatrix} b \\\\ d \\end{bmatrix} = \\begin{bmatrix} ae + bg \\\\ ce + dg \\end{bmatrix} $<br><br>\n",
    "$\\begin{bmatrix} a & b \\\\ c & d \\end{bmatrix}\\begin{bmatrix} f \\\\ h\\end{bmatrix} = f\\begin{bmatrix} a \\\\ c \\end{bmatrix} + h\\begin{bmatrix} b \\\\ d \\end{bmatrix} = \\begin{bmatrix} af + bh \\\\ cf + dh \\end{bmatrix}$\n",
    "##### Rotate and then shear\n",
    "$\\begin{bmatrix} 1 & 1 \\\\ 0 & 1 \\end{bmatrix}\\begin{bmatrix} 0 & -1 \\\\ 1 & 0 \\end{bmatrix} = \\begin{bmatrix} 1 & -1 \\\\ 1 & 0 \\end{bmatrix} $\n",
    "\n",
    "##### Shear and then rotate\n",
    "$\\begin{bmatrix} 0 & -1 \\\\ 1 & 0 \\end{bmatrix}\\begin{bmatrix} 1 & 1 \\\\ 0 & 1 \\end{bmatrix} = \\begin{bmatrix} 0 & -1 \\\\ 1 & 1 \\end{bmatrix} $\n",
    "<br>\n",
    "<br>\n",
    "$$\\begin{equation}M_1M_2 \\neq M_2M_1 \\end{equation}$$\n",
    "<br><br>\n",
    "##### Associativity\n",
    "$$\\begin{equation}(AB)C = A(BC) \\end{equation}$$\n",
    "<br><br>\n",
    "$\\begin{bmatrix} a & b \\\\ c & d \\end{bmatrix} \\left( \\begin{bmatrix} e & f \\\\ g & h \\end{bmatrix}\\begin{bmatrix} i & j \\\\ k & l \\end{bmatrix} \\right) = \\left( \\begin{bmatrix} a & b \\\\ c & d\\end{bmatrix}\\begin{bmatrix} e & f \\\\ g & h \\end{bmatrix} \\right)\\begin{bmatrix} i & j \\\\ k & l \\end{bmatrix}$\n",
    "<br><br>\n",
    "$\\begin{bmatrix} a & b \\\\ c & d \\end{bmatrix} \\left( \\begin{bmatrix} e & f \\\\ g & h \\end{bmatrix}\\begin{bmatrix} i & j \\\\ k & l \\end{bmatrix} \n",
    "\\right) = \\begin{bmatrix} a & b \\\\ c & d \\end{bmatrix} \\begin{bmatrix} ei + kf & ej+lf \\\\ gi + hk & gj + hl \\end{bmatrix} = \\begin{bmatrix} a(ei+kf) + b(gi+hk) & a(ej+lf) + b(gj+hl) \\\\ c(ei+kf) + d(gi+hk) & c(ej+lf) + d(gj+hl) \\end{bmatrix}$<br><br>\n",
    "$\\left( \\begin{bmatrix} a & b \\\\ c & d \\end{bmatrix}\\begin{bmatrix} e & f \\\\ g & h \\end{bmatrix} \\right)\\begin{bmatrix} i & j \\\\ k & l \\end{bmatrix} = \\begin{bmatrix} ae + bg & af + bh  \\\\ ce + dg & cf + dh \\end{bmatrix} \\begin{bmatrix} i & j \\\\ k & l\\end{bmatrix} = \\begin{bmatrix} i(ae+bg) + k(af+bh) & j(ae+bg) + l(af+bh) \\\\ i(ce+dg) + k(cf+dh) & j(ce+dg) + l(cf+dh) \\end{bmatrix}$\n"
   ]
  },
  {
   "cell_type": "code",
   "execution_count": 5,
   "metadata": {},
   "outputs": [
    {
     "name": "stdout",
     "output_type": "stream",
     "text": [
      "[[1 1]\n",
      " [0 1]] [[ 0 -1]\n",
      " [ 1  0]]\n",
      "[[ 1 -1]\n",
      " [ 1  0]] [[ 0 -1]\n",
      " [ 1  1]]\n",
      "[0 1] [-1  2]\n"
     ]
    },
    {
     "data": {
      "image/png": "[encoded data removed]",
      "text/plain": [
       "<Figure size 432x288 with 1 Axes>"
      ]
     },
     "metadata": {
      "needs_background": "light"
     },
     "output_type": "display_data"
    }
   ],
   "source": [
    "v = np.array([1,1])\n",
    "M1 = np.array([[1,1],[0,1]])\n",
    "M2 = np.array([[0,-1],[1,0]])\n",
    "C1 = M1 @ M2\n",
    "C2 = M2 @ M1\n",
    "print(M1,M2)\n",
    "print(C1,C2)\n",
    "\n",
    "C1v = C1 @ v\n",
    "C2v = C2 @ v\n",
    "print(C1v, C2v)\n",
    "\n",
    "plt.plot([0,v[0]],[0,v[1]],'b-',label='Vector', linewidth=1.5)\n",
    "plt.plot([0,C1v[0]],[0,C1v[1]],'r--',label='Rotate and then shear', linewidth=1.5)\n",
    "plt.plot([0,C2v[0]],[0,C2v[1]],'r:',label='Shear and then rotate', linewidth=1.5)\n",
    "\n",
    "plt.legend()\n",
    "plt.axis('square')\n",
    "plt.axis((-4.5,4.5,-4.5,4.5))\n",
    "plt.grid()\n",
    "plt.show()"
   ]
  },
  {
   "cell_type": "code",
   "execution_count": 6,
   "metadata": {},
   "outputs": [
    {
     "name": "stdout",
     "output_type": "stream",
     "text": [
      "[[-1  7]\n",
      " [-3 17]]\n",
      "[[-1  7]\n",
      " [-3 17]]\n",
      "[[ True  True]\n",
      " [ True  True]]\n"
     ]
    }
   ],
   "source": [
    "A = np.array([[1,2],[3,4]])\n",
    "B = np.array([[1,1],[0,1]])\n",
    "C = np.array([[-1,1],[0,2]])\n",
    "\n",
    "AB_C = (A@B)@C\n",
    "A_BC = A@(B@C)\n",
    "\n",
    "print(AB_C)\n",
    "print(A_BC)\n",
    "print (AB_C == A_BC)\n"
   ]
  },
  {
   "cell_type": "markdown",
   "metadata": {},
   "source": [
    "### 5. 3D linear transformation\n",
    "$ \\begin{bmatrix} 0 & 1 & 2 \\\\ 3 & 4 & 5 \\\\ 6 & 7 & 8\\end{bmatrix}\\begin{bmatrix} x \\\\ y \\\\ z \\end{bmatrix} = x\\begin{bmatrix} 0 \\\\ 3 \\\\6 \\end{bmatrix}\\ + y\\begin{bmatrix} 1 \\\\ 4 \\\\ 7 \\end{bmatrix} + z\\begin{bmatrix} 2 \\\\ 5\\\\ 8 \\end{bmatrix}$\n",
    "<br><br>\n",
    "$ \\begin{bmatrix} a_{11} & a_{12} & a_{13} \\\\ a_{21} & a_{22} & a_{23} \\\\ a_{31} & a_{32} & a_{33}\\end{bmatrix}\\begin{bmatrix} b_{11} & b_{12} & b_{13} \\\\ b_{21} & b_{22} & b_{23} \\\\ b_{31} & b_{32} & b_{33}\\end{bmatrix} = \\begin{bmatrix} a_{11}b_{11} + a_{12}b_{21} + a_{13}b_{31} & a_{11}b_{12} + a_{12}b_{22} + a_{13}b_{32} & a_{11}b_{13} + a_{12}b_{23} + a_{13}b_{33} \\\\ a_{21}b_{11} + a_{22}b_{21} + a_{23}b_{31} & a_{21}b_{12} + a_{22}b_{22} + a_{23}b_{32} & a_{21}b_{13} + a_{22}b_{23} + a_{23}b_{33} \\\\ a_{31}b_{11} + a_{32}b_{21} + a_{33}b_{31} & a_{31}b_{12} + a_{32}b_{22} + a_{32}b_{32} & a_{31}b_{13} + a_{32}b_{23} + a_{32}b_{33} \\end{bmatrix} $\n",
    "<br><br>\n",
    "$\\begin{bmatrix} a_{11} & a_{12} & a_{13} \\\\ a_{21} & a_{22} & a_{23} \\\\ a_{31} & a_{32} & a_{33}\\end{bmatrix} \\begin{bmatrix} b_{11} \\\\ b_{21} \\\\ b_{31}\\end{bmatrix} = \\begin{bmatrix} a_{11}b_{11} + a_{12}b_{21} + a_{13}b_{31} \\\\ a_{21}b_{11} + a_{22}b_{21} + a_{23}b_{31} \\\\ a_{31}b_{11} + a_{32}b_{21} + a_{33}b_{31}\\end{bmatrix}$\n",
    "<br><br>\n",
    "$\\begin{bmatrix} a_{11} & a_{12} & a_{13} \\\\ a_{21} & a_{22} & a_{23} \\\\ a_{31} & a_{32} & a_{33}\\end{bmatrix} \\begin{bmatrix} b_{12} \\\\ b_{22} \\\\ b_{32}\\end{bmatrix} = \\begin{bmatrix} a_{11}b_{12} + a_{12}b_{22} + a_{13}b_{32} \\\\ a_{21}b_{12} + a_{22}b_{22} + a_{23}b_{32} \\\\ a_{31}b_{12} + a_{32}b_{22} + a_{32}b_{32}\\end{bmatrix}$\n",
    "<br><br>\n",
    "$\\begin{bmatrix} a_{11} & a_{12} & a_{13} \\\\ a_{21} & a_{22} & a_{23} \\\\ a_{31} & a_{32} & a_{33}\\end{bmatrix} \\begin{bmatrix} b_{13} \\\\ b_{23} \\\\ b_{33}\\end{bmatrix} = \\begin{bmatrix} a_{11}b_{13} + a_{12}b_{23} + a_{13}b_{33} \\\\ a_{21}b_{13} + a_{22}b_{23} + a_{23}b_{33} \\\\ a_{31}b_{13} + a_{32}b_{23} + a_{32}b_{33}\\end{bmatrix}$\n",
    "<br><br>\n"
   ]
  },
  {
   "cell_type": "code",
   "execution_count": 7,
   "metadata": {},
   "outputs": [
    {
     "name": "stdout",
     "output_type": "stream",
     "text": [
      "[[ 6  6  6]\n",
      " [33 44 55]\n",
      " [ 6 10 14]]\n"
     ]
    }
   ],
   "source": [
    "M1 = np.array([[0,-2,2],[5,1,5],[1,4,-1]])\n",
    "M2 = np.array([[0,1,2],[3,4,5],[6,7,8]])\n",
    "M1M2 = M1 @ M2\n",
    "print(M1M2)"
   ]
  },
  {
   "cell_type": "markdown",
   "metadata": {},
   "source": [
    "### 6. The determinant\n",
    "The determinant of a transformation can be considered as the scaling factor by which a linear transformation changes any area.\n",
    "<br><br>\n",
    "$ det\\left( \\begin{bmatrix} a & b \\\\ c & d\\end{bmatrix} \\right) = ad - bc $\n",
    "<br><br>\n",
    "$ det\\left( \\begin{bmatrix} a & b & c \\\\ d & e & f\\\\ g & h & i\\end{bmatrix} \\right) = {\\color{red}a}\\, det\\left( \\begin{bmatrix} c & f \\\\ h & i\\end{bmatrix} \\right) - {\\color{red}b}\\, det\\left( \\begin{bmatrix} d & f \\\\ g & i\\end{bmatrix} \\right) + {\\color{red}c}\\, det\\left( \\begin{bmatrix} d & e \\\\ g & h\\end{bmatrix} \\right) = a*(ci - fh) -b*(di - fg) + c*(dh - eg) $"
   ]
  },
  {
   "cell_type": "code",
   "execution_count": 8,
   "metadata": {},
   "outputs": [
    {
     "name": "stdout",
     "output_type": "stream",
     "text": [
      "[[3 2]\n",
      " [0 2]] 6.0\n",
      "[[1 2]\n",
      " [2 4]] 0.0\n",
      "[[ 1  2]\n",
      " [ 1 -1]] -3.0000000000000004\n",
      "[[ 1  2  0]\n",
      " [ 3  5  8]\n",
      " [ 2 -3  0]] 55.99999999999997\n",
      "56\n"
     ]
    }
   ],
   "source": [
    "A = np.array([[3,2],[0,2]])\n",
    "print(A,np.linalg.det(A))\n",
    "\n",
    "A = np.array([[1,2],[2,4]])\n",
    "print(A,np.linalg.det(A))\n",
    "\n",
    "A = np.array([[1,2],[1,-1]])\n",
    "print(A,np.linalg.det(A))\n",
    "\n",
    "B = np.array([[1,2,0],[3,5,8],[2,-3,0]])\n",
    "print(B, np.linalg.det(B))\n",
    "print(1*(0*0 - 8*(-3)) - 2*(3*0 - 2*8) + 0*(3*5 - 2*(-3)))"
   ]
  },
  {
   "cell_type": "markdown",
   "metadata": {},
   "source": [
    "### 7. Inverse matrix\n",
    "Here is an example of a linear system of equations:<br>\n",
    " \n",
    "$\\begin{align}\n",
    "2{\\color{green}x}+5{\\color{red}y}+3{\\color{blue}z} & = -3 \\\\\n",
    "4{\\color{green}x}+0{\\color{red}y}+8{\\color{blue}z} & = 0 \\\\\n",
    "1{\\color{green}x}+3{\\color{red}y}+0{\\color{blue}z} & = 2 \n",
    "\\end{align}$ \n",
    "<br><br>\n",
    "\n",
    "It can also be written in a form of matrix.<br><br>\n",
    "$ \\begin{bmatrix} 2 & 5 & 3 \\\\ 4 & 0 & 8 \\\\ 1 & 3 & 0\\end{bmatrix} \\begin{bmatrix} {\\color{green}x} \\\\ {\\color{red}y} \\\\ {\\color{blue}z}\\end{bmatrix} = \\begin{bmatrix} -3 \\\\ 0\\\\ 2 \\end{bmatrix}$<br><br>\n",
    "$$ A\\vec{x}=\\vec{v} $$<br><br>\n",
    "To solve the equation, we could multiply the inverse Matrix of A to both sides of the equation.<br><br>\n",
    "$$ A^{-1}A\\vec{x} = A^{-1}\\vec{v}$$<br>\n",
    "$$ \\vec{x} = A^{-1}\\vec{v} $$ <br>\n",
    "The part $A^{-1}A$ does nothing, and $A^{-1}A=\\begin{bmatrix} 1 & 0 \\\\ 0 & 1\\end{bmatrix}$, which means that after linear transformation of A and the inverse of A, the basis vetors remain unchanged. For example, the inverse of 90$^{\\circ}$ Counterclockwise is 90$^{\\circ}$ Clockwise. <br><br> \n",
    "\n",
    "\n"
   ]
  },
  {
   "cell_type": "code",
   "execution_count": 9,
   "metadata": {},
   "outputs": [
    {
     "name": "stdout",
     "output_type": "stream",
     "text": [
      "[[ 0 -1]\n",
      " [ 1  0]]\n",
      "[[ 0.  1.]\n",
      " [-1. -0.]]\n",
      "[[1. 0.]\n",
      " [0. 1.]]\n",
      "[[ 5.42857143]\n",
      " [-1.14285714]\n",
      " [-2.71428571]]\n",
      "[-3.]\n",
      "[0.]\n",
      "[2.]\n"
     ]
    }
   ],
   "source": [
    "A = np.array([[0,-1],[1,0]]) \n",
    "B = np.linalg.inv(A) \n",
    "print (A) \n",
    "print (B) \n",
    "print (np.dot(A,B))\n",
    "\n",
    "A = np.array([[2,5,3],[4,0,8],[1,3,0]])\n",
    "v = np.array([[-3],[0],[2]])\n",
    "x = np.dot(np.linalg.inv(A),v)\n",
    "print(x)\n",
    "print(2*x[0]+5*x[1]+3*x[2])\n",
    "print(4*x[0]+0*x[1]+8*x[2])\n",
    "print(1*x[0]+3*x[1]+0*x[2])"
   ]
  },
  {
   "cell_type": "markdown",
   "metadata": {},
   "source": [
    "### 8. Nonsquare matrix\n",
    "It could be considered as linear transformations from a 2D space to a 3D sapce (e.g., 3 by 2 matrix), or from a 3D space to a 2D space (e.g., 2 by 3 matrix). The linear transformations can also occur from a 2D space to a 1D space (e.g., 1 by 2 matrix).\n"
   ]
  },
  {
   "cell_type": "code",
   "execution_count": 10,
   "metadata": {},
   "outputs": [
    {
     "name": "stdout",
     "output_type": "stream",
     "text": [
      "[[ 2  0]\n",
      " [-1  1]\n",
      " [-2  1]] (3, 2) 2\n",
      "[[3 1 4]\n",
      " [1 5 9]] (2, 3) 2\n",
      "[[1 2]] (1, 2) 1\n"
     ]
    }
   ],
   "source": [
    "A = np.array([[2,0],[-1,1],[-2,1]])\n",
    "print(A, A.shape,np.linalg.matrix_rank(A))\n",
    "\n",
    "# giving errors, the determinant can also be computed for a square matrix\n",
    "# print(np.linalg.det(A)) \n",
    "\n",
    "A = np.array([[3,1,4],[1,5,9]])\n",
    "print(A, A.shape,np.linalg.matrix_rank(A))\n",
    "\n",
    "A = np.array([[1,2]])\n",
    "print(A, A.shape,np.linalg.matrix_rank(A))"
   ]
  },
  {
   "cell_type": "markdown",
   "metadata": {},
   "source": [
    "### 9. Dot products and duality\n",
    "**Matrix-vector product <==> Dot product**<br><br>\n",
    "Anytime you have one of these linear transformations whose output space is the number line, no matter how it was defined, there's going to be some unique vector v corresponding to that transformation. In the sense that applying the transformation is the same thing as taking a dot product.<br><br>\n",
    "$$\\begin{bmatrix} u_x \\\\ u_y \\end{bmatrix} \\cdot \\begin{bmatrix} x \\\\ y\\end{bmatrix} = u_x\\cdot x+u_y\\cdot y$$<br>\n",
    "$$\\begin{bmatrix} u_x & u_y \\end{bmatrix} \\begin{bmatrix} x \\\\ y\\end{bmatrix} = u_x\\cdot x+u_y\\cdot y$$\n",
    "<br><br>\n",
    "Traditionally dot product is defined as follows:<br><br>\n",
    "If $\\vec{v}$ and $\\vec{w}$ have similar directions, $\\vec{v} \\cdot \\vec{w} = $ (Length of projected $\\vec{w}$ on $\\vec{v})$(Length of $\\vec{v}$), the dot product is positive. <br><br>\n",
    "If $\\vec{v}$ and $\\vec{w}$ have opposing directions, $\\vec{v} \\cdot \\vec{w} = $ -(Length of projected $\\vec{w}$ on $\\vec{v})$(Length of $\\vec{v}$), the dot product is negative.<br><br>\n",
    "If $\\vec{v}$ and $\\vec{w}$ are perpendicular, meaning that the length of projected $\\vec{w}$ is zero, the dot product is $0$.<br><br>\n",
    "The order of the two vectors does not matter.<br> $\\vec{v} \\cdot \\vec{w} = $ $\\vec{w} \\cdot \\vec{v} = $ (Length of projected $\\vec{w}$ on $\\vec{v})$(Length of $\\vec{v}$) $=$ (Length of projected $\\vec{v}$ on $\\vec{w})$(Length of $\\vec{w}$)\n",
    "<br><br>\n",
    "##### Associativity\n",
    "$(2\\vec{v}) \\cdot \\vec{w} = 2(\\vec{v} \\cdot \\vec{w})$"
   ]
  },
  {
   "cell_type": "code",
   "execution_count": 31,
   "metadata": {},
   "outputs": [
    {
     "name": "stdout",
     "output_type": "stream",
     "text": [
      "[2 3] (2,)\n",
      "[[2 3]] (1, 2)\n",
      "[[4]\n",
      " [5]] (2, 1)\n",
      "[23]\n",
      "[[23]]\n",
      "[[46]] [[46]]\n",
      "[-23]\n"
     ]
    }
   ],
   "source": [
    "A1 = np.array([2,3])\n",
    "A2 = np.array([[2,3]])\n",
    "\n",
    "print (A1, A1.shape)\n",
    "print (A2, A2.shape)\n",
    "\n",
    "B = np.array([[4],[5]])\n",
    "print(B, B.shape)\n",
    "print(np.dot(A1,B))\n",
    "print(A2@B) # print(np.dot(A2,B))  \n",
    "\n",
    "print((2*A2)@B, 2*(A2@B))\n",
    "\n",
    "C = np.array([-2,-3])\n",
    "print(C@B)"
   ]
  },
  {
   "cell_type": "markdown",
   "metadata": {},
   "source": [
    "### 10. Cross products\n",
    "In a 2D space, $\\vec{v} \\times \\vec{w} = \\pm$ Area of parallelogram spanned by $\\vec{v}$ and $\\vec{w}$.<br><br>\n",
    "If $\\vec{v}$ is at the right side of $\\vec{w}$, similarly as the basis vector $\\hat{i}$ is at the right side of $\\hat{j}$, the cross product is positive.<br><br>\n",
    "If $\\vec{v}$ is at the left side of $\\vec{w}$, the cross product is negative.<br><br>\n",
    "Thus, the order of $\\vec{v}$ and $\\vec{w}$ matters.\n",
    "$$\\vec{v} \\times \\vec{w} = - \\vec{w} \\times \\vec{v}$$\n",
    "<br>\n",
    "\n",
    "In a 3D space, $\\vec{v} \\times \\vec{w} = \\vec{p}$. The cross product is not a number as in the 2D space, but a vector.<br><br>\n",
    "The length of $\\vec{p}$ is the area of the parallelogram spanned by $\\vec{v}$ and $\\vec{w}$, and the direction of $\\vec{p}$ is perpendicular to the parallelogram, and follows the right hand rule.<br><br>\n",
    "$$\\begin{bmatrix} v_1 \\\\ v_2 \\\\ v_3 \\end{bmatrix} \\times \\begin{bmatrix} w_1 \\\\ w_2 \\\\ w_3 \\end{bmatrix} = \\begin{bmatrix} v_2 \\cdot w_3 - w_2 \\cdot v_3 \\\\ v_3 \\cdot w_1 - w_3 \\cdot v_1 \\\\ v_1 \\cdot w_2 - w_1 \\cdot v_2 \\end{bmatrix}$$\n",
    "<br><br>\n",
    "$\\begin{bmatrix} v_1 \\\\ v_2 \\\\ v_3 \\end{bmatrix} \\times \\begin{bmatrix} w_1 \\\\ w_2 \\\\ w_3 \\end{bmatrix} = det \\left( \\begin{bmatrix} \\hat{i} & v_1 & w_1 \\\\ \\hat{j} & v_2 & v_3 \\\\ \\hat{k} & v_3 & w_3 \\end{bmatrix} \\right) = $<br> \n",
    "$\\hat{i}(v_2 w_3 - w_2 v_3) + \\hat{j}(v_3 w_1 - w_3 v_1) + \\hat{k}(v_1 w_2 - w_1 v_2) $\n",
    "\n",
    "##### Associativity\n",
    "$$(3\\vec{v}) \\times \\vec{w} = 3(\\vec{v} \\times \\vec{w})$$\n",
    "<br><br>\n",
    "\n",
    "**From another perspective**, we assume transforming a 3D vector $[x, y, z]$ to a 1D number line which results in the determinant of a matrix whose first column is the vector, and the other two columns are the coordinates of $\\vec{v}$ and $\\vec{w}$. Then we need to find out the transformation matrix (i.e., the dual vector) which can be demonstrated to be the cross product of $\\vec{v}$ and $\\vec{w}$.<br><br>\n",
    "\n",
    "$\\begin{bmatrix} ? & ? & ?\\end{bmatrix}\\begin{bmatrix} x \\\\ y \\\\z\\end{bmatrix} = det \\left( \\begin{bmatrix} x & v_1 & w_1 \\\\ y & v_2 & w_2 \\\\ z & v_3 & w_3\\end{bmatrix}\\right)$<br><br>\n",
    "\n",
    "$\\begin{bmatrix} ? \\\\ ? \\\\ ?\\end{bmatrix} \\cdot \\begin{bmatrix} x \\\\ y \\\\z\\end{bmatrix} = det \\left( \\begin{bmatrix} x & v_1 & w_1 \\\\ y & v_2 & w_2 \\\\ z & v_3 & w_3\\end{bmatrix}\\right)$<br><br>\n",
    "\n",
    "$\\begin{bmatrix} p_1 \\\\ p_2 \\\\ p_3\\end{bmatrix} \\cdot \\begin{bmatrix} x \\\\ y \\\\z\\end{bmatrix} = det \\left( \\begin{bmatrix} x & v_1 & w_1 \\\\ y & v_2 & w_2 \\\\ z & v_3 & w_3\\end{bmatrix}\\right)$<br><br>\n",
    "\n",
    "**Computationally**, $p_1 \\cdot x + p_2 \\cdot y + p_3 \\cdot z = x(v_2 w_3 - w_2 v_3) + y(v_3 w_1 - w_3 v_1) + z(v_1 w_2 - w_1 v_2) $, thus $$p_1 = v_2 w_3 - w_2 v_3$$ $$p_2 = v_3 w_1 - w_3 v_1$$  $$p_3 = v_1 w_2 - w_1 v_2 $$\n",
    "<br><br>\n",
    "**Geometrically**,<br>\n",
    "$\\vec{P} \\cdot \\begin{bmatrix} x \\\\ y \\\\z\\end{bmatrix} =$ (Length of projection of vector $\\begin{bmatrix} x \\\\ y \\\\z\\end{bmatrix}$ on $\\vec{P}$) $\\times$ (Length of $\\vec{P}$)<br><br>\n",
    "The volumn of the parallelepiped (i.e., the determinant of the matrix whose first column is the vector $[x, y, z]$, and the other columns are $\\vec{v}$ and $\\vec{w}$) is:<br> \n",
    "(Area of parallelogram spanned by $\\vec{v}$ and $\\vec{w}$) $\\times$ (The projection of $\\begin{bmatrix} x \\\\ y \\\\z\\end{bmatrix}$ on the line perpendicular to both $\\vec{v}$ and $\\vec{w}$)<br><br>\n",
    "The length of $\\vec{P}$ = Area of parallelogram <br><br>\n",
    "The direction of $\\vec{P}$ is perpendicular to both $\\vec{v}$ and $\\vec{w}$."
   ]
  },
  {
   "cell_type": "code",
   "execution_count": 49,
   "metadata": {},
   "outputs": [
    {
     "name": "stdout",
     "output_type": "stream",
     "text": [
      "[8 3 4] [2 6 6]\n",
      "[ -6 -40  42]\n",
      "-6 -40 42\n"
     ]
    }
   ],
   "source": [
    "A = np.random.randint(10, size=(3, ))\n",
    "B = np.random.randint(10, size=(3, ))\n",
    "C = np.cross(A,B)\n",
    "\n",
    "print(A,B)\n",
    "print(C)\n",
    "print(A[1]*B[2]-B[1]*A[2], A[2]*B[0]-B[2]*A[0], A[0]*B[1]-B[0]*A[1])  "
   ]
  },
  {
   "cell_type": "markdown",
   "metadata": {},
   "source": [
    "### 11. Eigenvectors and eigenvalues\n",
    "After the linear transformation, the vector remains on its own span.<br><br>\n",
    "$$A\\vec{v} = \\lambda \\vec{v}$$\n",
    "<br>\n",
    "A is the transformation matrix, $\\vec{v}$ is the **eigenvector**, and $\\lambda$ is the **eigenvalue**.<br><br>\n",
    "$\\lambda$ can be written into the matrix form:<br>\n",
    "$$\\begin{bmatrix} \\lambda & 0 & 0 \\\\ 0 & \\lambda & 0 \\\\ 0 & 0 & \\lambda\\end{bmatrix} = \\lambda \\begin{bmatrix}1&0&0\\\\0&1&0\\\\0&0&1\\end{bmatrix}$$<br>\n",
    "$$A\\vec{v} = (\\lambda I) \\vec{v}$$<br>\n",
    "$$(A- \\lambda I) \\vec{v} =\\vec{0}$$<br>\n",
    "To find a nonzero solution for $\\vec{v}$, we need $det(A-\\lambda I)=0$<br>\n",
    "For example, for the matrix $\\begin{bmatrix}3&1\\\\0&2\\end{bmatrix}$, the eigenvalues are the solutions to:<br>\n",
    "$det(\\begin{bmatrix}3 & 1 \\\\ 0 & 2\\end{bmatrix} - \\begin{bmatrix}\\lambda & 0 \\\\ 0 & \\lambda\\end{bmatrix}) = det\\left( \\begin{bmatrix}3-\\lambda & 1 \\\\ 0 & 2-\\lambda\\end{bmatrix}\\right) = (3-\\lambda)(2-\\lambda)=0$<br><br>\n",
    "$\\lambda = 2$ or $\\lambda = 3$\n",
    "<br><br>\n",
    "To find the eigenvector, we plug the eigenvalue into the matrix, and to find the solutions to:<br>\n",
    "$\\begin{bmatrix}3-2 & 1 \\\\ 0 & 2-2\\end{bmatrix}\\begin{bmatrix}x\\\\y\\end{bmatrix} = \\begin{bmatrix}0\\\\0\\end{bmatrix}$<br><br>\n",
    "The solutions are all vectors on the diagonal line spanned by [1,-1]\n"
   ]
  },
  {
   "cell_type": "code",
   "execution_count": 43,
   "metadata": {},
   "outputs": [
    {
     "name": "stdout",
     "output_type": "stream",
     "text": [
      "[[0 1]\n",
      " [1 1]]\n",
      "[[1 1]\n",
      " [1 2]]\n",
      "[[1 2]\n",
      " [2 3]]\n",
      "[[2 3]\n",
      " [3 5]]\n",
      "[[3 5]\n",
      " [5 8]]\n",
      "[[ 5  8]\n",
      " [ 8 13]]\n",
      "[[ 2.          2.        ]\n",
      " [ 3.23606798 -1.23606798]]\n",
      "[[ 0.1381966  0.2236068]\n",
      " [ 0.3618034 -0.2236068]]\n",
      "[[ 1.61803399e+00 -5.55111512e-17]\n",
      " [ 1.66533454e-16 -6.18033989e-01]]\n",
      "[[ 2.61803399e+00 -5.55111512e-17]\n",
      " [ 1.66533454e-16  3.81966011e-01]]\n",
      "[[ 4.23606798e+00 -1.11022302e-16]\n",
      " [ 3.33066907e-16 -2.36067977e-01]]\n",
      "[[ True  True]\n",
      " [ True  True]]\n",
      "1.618 2.6179240000000004 4.235801032000001\n",
      "-0.618 -0.381924 -0.236029032\n"
     ]
    }
   ],
   "source": [
    "A=np.array([[0,1],[1,1]])\n",
    "A_square = A@A\n",
    "A_cub = A_square@A\n",
    "A_quar = A_cub@A\n",
    "A_fifth = A_quar@A\n",
    "\n",
    "print(A)\n",
    "print(A_square)\n",
    "print(A_cub)\n",
    "print(A_quar)\n",
    "print(A_fifth)\n",
    "print(A_fifth@A)\n",
    "\n",
    "# the two columns of B are the eigenvectors of A, use these two eigenvectors as eigenbasis\n",
    "B = np.array([[2,2],[1+math.sqrt(5),1-math.sqrt(5)]])\n",
    "B_inverse = np.linalg.inv(B)\n",
    "C = B_inverse@A@B  # how was matrix A expressed in the new coordinate system with the new eigenbasis \n",
    "C2 = C@C\n",
    "C3 = C@C2\n",
    "\n",
    "print(B)\n",
    "print(B_inverse)\n",
    "print(C)\n",
    "print(C2)\n",
    "print(C3)\n",
    "print(C@C2 == C2@C)\n",
    "print(1.618,1.618**2,1.618**3)\n",
    "print(-0.618,-0.618**2,-0.618**3)\n"
   ]
  },
  {
   "cell_type": "code",
   "execution_count": null,
   "metadata": {},
   "outputs": [],
   "source": []
  }
 ],
 "metadata": {
  "kernelspec": {
   "display_name": "Python 3",
   "language": "python",
   "name": "python3"
  },
  "language_info": {
   "codemirror_mode": {
    "name": "ipython",
    "version": 3
   },
   "file_extension": ".py",
   "mimetype": "text/x-python",
   "name": "python",
   "nbconvert_exporter": "python",
   "pygments_lexer": "ipython3",
   "version": "3.7.7"
  }
 },
 "nbformat": 4,
 "nbformat_minor": 4
}
