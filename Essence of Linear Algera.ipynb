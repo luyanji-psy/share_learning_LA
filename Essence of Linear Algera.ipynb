{
 "cells": [
  {
   "cell_type": "markdown",
   "metadata": {},
   "source": [
    "# Essence of Linear Algera\n",
    "This is the notes and exercises I did while learning essence of Linear Algera.<br>\n",
    "Author: Luyan Ji<br><br>\n",
    "Reference: \n",
    "* https://www.youtube.com/playlist?list=PLZHQObOWTQDPD3MizzM2xVFitgF8hE_ab\n",
    "* https://www.w3resource.com/python-exercises/numpy/linear-algebra/index.php"
   ]
  },
  {
   "cell_type": "code",
   "execution_count": 1,
   "metadata": {},
   "outputs": [],
   "source": [
    "# Load library\n",
    "import numpy as np\n",
    "import matplotlib.pyplot as plt"
   ]
  },
  {
   "cell_type": "markdown",
   "metadata": {},
   "source": [
    "### 1. Vector addition\n",
    "$\\begin{bmatrix} 1 \\\\ 2 \\end{bmatrix}  + \\begin{bmatrix} 3 \\\\ 4 \\end{bmatrix} = \\begin{bmatrix} 1+3 \\\\ 2+4 \\end{bmatrix} = \\begin{bmatrix} 4 \\\\ 6 \\end{bmatrix}$"
   ]
  },
  {
   "cell_type": "code",
   "execution_count": 2,
   "metadata": {
    "scrolled": true
   },
   "outputs": [
    {
     "name": "stdout",
     "output_type": "stream",
     "text": [
      "[[4]\n",
      " [6]]\n"
     ]
    },
    {
     "data": {
      "image/png": "[encoded data removed]",
      "text/plain": [
       "<Figure size 432x288 with 1 Axes>"
      ]
     },
     "metadata": {
      "needs_background": "light"
     },
     "output_type": "display_data"
    }
   ],
   "source": [
    "A = np.array([[1],[2]])\n",
    "B = np.array([[3],[4]])\n",
    "C = A+B\n",
    "print (C)\n",
    "\n",
    "plt.plot([0,A[0]],[0,A[1]],'y',label='Vector A', linewidth=1.5)\n",
    "plt.plot([0,B[0]],[0,B[1]],'b',label='Vector B', linewidth=1.5)\n",
    "plt.plot([0,C[0]],[0,C[1]],'g',label='Vector A+B', linewidth=1.5)\n",
    "plt.plot([0,1],[0,0],'r:',label=\"ihat\")\n",
    "plt.plot([0,0],[0,1],'r:',label=\"jhat\")\n",
    "\n",
    "plt.legend()\n",
    "plt.axis('square')\n",
    "plt.axis((-1,7,-1,7))\n",
    "plt.grid()\n",
    "plt.show()\n"
   ]
  },
  {
   "cell_type": "markdown",
   "metadata": {},
   "source": [
    "### 2. Scaling multiplication\n",
    "$2\\begin{bmatrix} 1 \\\\ -1 \\end{bmatrix} = \\begin{bmatrix} 2*1 \\\\ 2*(-1) \\end{bmatrix} = \\begin{bmatrix} 2 \\\\ -2 \\end{bmatrix}$"
   ]
  },
  {
   "cell_type": "code",
   "execution_count": 3,
   "metadata": {},
   "outputs": [
    {
     "name": "stdout",
     "output_type": "stream",
     "text": [
      "[[ 2]\n",
      " [-2]]\n"
     ]
    },
    {
     "data": {
      "image/png": "[encoded data removed]",
      "text/plain": [
       "<Figure size 432x288 with 1 Axes>"
      ]
     },
     "metadata": {
      "needs_background": "light"
     },
     "output_type": "display_data"
    }
   ],
   "source": [
    "scale = 2\n",
    "A = np.array([[1],[-1]])\n",
    "C = scale * A\n",
    "print(C)\n",
    "\n",
    "plt.plot([0,A[0]],[0,A[1]],'y',label='Vector A', linewidth=1.5)\n",
    "plt.plot([0,C[0]],[0,C[1]],'g',label='Vector A, scaled by 2', linewidth=1.5)\n",
    "plt.plot([0,1],[0,0],'r:',label=\"ihat\")\n",
    "plt.plot([0,0],[0,1],'r:',label=\"jhat\")\n",
    "\n",
    "plt.legend()\n",
    "plt.axis('square')\n",
    "plt.axis((-4,4,-4,4))\n",
    "plt.grid()\n",
    "plt.show()\n"
   ]
  },
  {
   "cell_type": "markdown",
   "metadata": {},
   "source": [
    "### 3. Linear transformations and matrices\n",
    "$\\begin{bmatrix} a & b \\\\ c & d \\end{bmatrix}\\begin{bmatrix} x \\\\ y \\end{bmatrix} = x\\begin{bmatrix} a \\\\ c \\end{bmatrix} + y\\begin{bmatrix} b \\\\ d \\end{bmatrix} = \\begin{bmatrix} ax+by \\\\ cx+dy \\end{bmatrix}$\n",
    "\n",
    "$\\begin{bmatrix} 1 & 3 \\\\ -2 & 0 \\end{bmatrix}\\begin{bmatrix} -1 \\\\ 2 \\end{bmatrix} = -1\\begin{bmatrix} 1 \\\\ -2 \\end{bmatrix} + 2\\begin{bmatrix} 3 \\\\ 0 \\end{bmatrix} = \\begin{bmatrix} -1*1 + 2*3 \\\\ -1*(-2) + 2*0 \\end{bmatrix} = \\begin{bmatrix} 5 \\\\ 2 \\end{bmatrix}$ \n",
    "<br>\n",
    "<br>\n",
    "To be noted, we have to use \"@\" (__matmul__) to do matrix multiplication, or to use np.dot."
   ]
  },
  {
   "cell_type": "code",
   "execution_count": 11,
   "metadata": {},
   "outputs": [
    {
     "name": "stdout",
     "output_type": "stream",
     "text": [
      "[[-1 -3]\n",
      " [-4  0]]\n",
      "[[5]\n",
      " [2]]\n",
      "[[5]\n",
      " [2]]\n"
     ]
    }
   ],
   "source": [
    "M = np.array([[1,3],[-2,0]])\n",
    "v = np.array([[-1],[2]])\n",
    "#print(M, M.shape, type(M))\n",
    "#print(v, v.shape, type(v))\n",
    "print(M*v)\n",
    "print(M @ v) \n",
    "print(np.dot(M,v))"
   ]
  },
  {
   "cell_type": "markdown",
   "metadata": {},
   "source": [
    "### 4. Matrix multiplication as composition\n",
    "$\\begin{bmatrix} a & b \\\\ c & d \\end{bmatrix}\\begin{bmatrix} e & f \\\\ g & h \\end{bmatrix} = \\begin{bmatrix} ae + bg & af + bh \\\\ ce + dg & cf + dh \\end{bmatrix} $<br><br>\n",
    "$\\begin{bmatrix} a & b \\\\ c & d \\end{bmatrix}\\begin{bmatrix} e \\\\ g\\end{bmatrix} = e\\begin{bmatrix} a \\\\ c \\end{bmatrix} + g\\begin{bmatrix} b \\\\ d \\end{bmatrix} = \\begin{bmatrix} ae + bg \\\\ ce + dg \\end{bmatrix} $<br><br>\n",
    "$\\begin{bmatrix} a & b \\\\ c & d \\end{bmatrix}\\begin{bmatrix} f \\\\ h\\end{bmatrix} = f\\begin{bmatrix} a \\\\ c \\end{bmatrix} + h\\begin{bmatrix} b \\\\ d \\end{bmatrix} = \\begin{bmatrix} af + bh \\\\ cf + dh \\end{bmatrix}$\n",
    "##### Rotate and then shear\n",
    "$\\begin{bmatrix} 1 & 1 \\\\ 0 & 1 \\end{bmatrix}\\begin{bmatrix} 0 & -1 \\\\ 1 & 0 \\end{bmatrix} = \\begin{bmatrix} 1 & -1 \\\\ 1 & 0 \\end{bmatrix} $\n",
    "\n",
    "##### Shear and then rotate\n",
    "$\\begin{bmatrix} 0 & -1 \\\\ 1 & 0 \\end{bmatrix}\\begin{bmatrix} 1 & 1 \\\\ 0 & 1 \\end{bmatrix} = \\begin{bmatrix} 0 & -1 \\\\ 1 & 1 \\end{bmatrix} $\n",
    "<br>\n",
    "<br>\n",
    "$$\\begin{equation}M_1M_2 \\neq M_2M_1 \\end{equation}$$\n",
    "<br><br>\n",
    "##### Associativity\n",
    "$$\\begin{equation}(AB)C = A(BC) \\end{equation}$$\n",
    "<br><br>\n",
    "$\\begin{bmatrix} a & b \\\\ c & d \\end{bmatrix}(\\begin{bmatrix} e & f \\\\ g & h \\end{bmatrix}\\begin{bmatrix} i & j \\\\ k & l \\end{bmatrix}) = (\\begin{bmatrix} a & b \\\\ c & d \\end{bmatrix}\\begin{bmatrix} e & f \\\\ g & h \\end{bmatrix})\\begin{bmatrix} i & j \\\\ k & l \\end{bmatrix}$\n",
    "<br><br>\n",
    "$\\begin{bmatrix} a & b \\\\ c & d \\end{bmatrix}(\\begin{bmatrix} e & f \\\\ g & h \\end{bmatrix}\\begin{bmatrix} i & j \\\\ k & l \\end{bmatrix}) = \\begin{bmatrix} a & b \\\\ c & d \\end{bmatrix} \\begin{bmatrix} ei + kf & ej+lf \\\\ gi + hk & gj + hl \\end{bmatrix} = \\begin{bmatrix} a(ei+kf) + b(gi+hk) & a(ej+lf) + b(gj+hl) \\\\ c(ei+kf) + d(gi+hk) & c(ej+lf) + d(gj+hl) \\end{bmatrix}$\n",
    "$(\\begin{bmatrix} a & b \\\\ c & d \\end{bmatrix}\\begin{bmatrix} e & f \\\\ g & h \\end{bmatrix})\\begin{bmatrix} i & j \\\\ k & l \\end{bmatrix} = \\begin{bmatrix} ae + bg & af + bh  \\\\ ce + dg & cf + dh \\end{bmatrix} \\begin{bmatrix} i & j \\\\ k & l\\end{bmatrix} = \\begin{bmatrix} i(ae+bg) + k(af+bh) & j(ae+bg) + l(af+bh) \\\\ i(ce+dg) + k(cf+dh) & j(ce+dg) + l(cf+dh) \\end{bmatrix}$\n"
   ]
  },
  {
   "cell_type": "code",
   "execution_count": 5,
   "metadata": {},
   "outputs": [
    {
     "name": "stdout",
     "output_type": "stream",
     "text": [
      "[[1 1]\n",
      " [0 1]] [[ 0 -1]\n",
      " [ 1  0]]\n",
      "[[ 1 -1]\n",
      " [ 1  0]] [[ 0 -1]\n",
      " [ 1  1]]\n",
      "[0 1] [-1  2]\n"
     ]
    },
    {
     "data": {
      "image/png": "[encoded data removed]",
      "text/plain": [
       "<Figure size 432x288 with 1 Axes>"
      ]
     },
     "metadata": {
      "needs_background": "light"
     },
     "output_type": "display_data"
    }
   ],
   "source": [
    "v = np.array([1,1])\n",
    "M1 = np.array([[1,1],[0,1]])\n",
    "M2 = np.array([[0,-1],[1,0]])\n",
    "C1 = M1 @ M2\n",
    "C2 = M2 @ M1\n",
    "print(M1,M2)\n",
    "print(C1,C2)\n",
    "\n",
    "C1v = C1 @ v\n",
    "C2v = C2 @ v\n",
    "print(C1v, C2v)\n",
    "\n",
    "plt.plot([0,v[0]],[0,v[1]],'b-',label='Vector', linewidth=1.5)\n",
    "plt.plot([0,C1v[0]],[0,C1v[1]],'r--',label='Rotate and then shear', linewidth=1.5)\n",
    "plt.plot([0,C2v[0]],[0,C2v[1]],'r:',label='Shear and then rotate', linewidth=1.5)\n",
    "\n",
    "plt.legend()\n",
    "plt.axis('square')\n",
    "plt.axis((-4.5,4.5,-4.5,4.5))\n",
    "plt.grid()\n",
    "plt.show()"
   ]
  },
  {
   "cell_type": "code",
   "execution_count": 6,
   "metadata": {},
   "outputs": [
    {
     "name": "stdout",
     "output_type": "stream",
     "text": [
      "[[-1  7]\n",
      " [-3 17]]\n",
      "[[-1  7]\n",
      " [-3 17]]\n",
      "[[ True  True]\n",
      " [ True  True]]\n"
     ]
    }
   ],
   "source": [
    "A = np.array([[1,2],[3,4]])\n",
    "B = np.array([[1,1],[0,1]])\n",
    "C = np.array([[-1,1],[0,2]])\n",
    "\n",
    "AB_C = (A@B)@C\n",
    "A_BC = A@(B@C)\n",
    "\n",
    "print(AB_C)\n",
    "print(A_BC)\n",
    "print (AB_C == A_BC)\n"
   ]
  },
  {
   "cell_type": "markdown",
   "metadata": {},
   "source": [
    "### 5. 3D linear transformation\n",
    "$ \\begin{bmatrix} 0 & 1 & 2 \\\\ 3 & 4 & 5 \\\\ 6 & 7 & 8\\end{bmatrix}\\begin{bmatrix} x \\\\ y \\\\ z \\end{bmatrix} = x\\begin{bmatrix} 0 \\\\ 3 \\\\6 \\end{bmatrix}\\ + y\\begin{bmatrix} 1 \\\\ 4 \\\\ 7 \\end{bmatrix} + z\\begin{bmatrix} 2 \\\\ 5\\\\ 8 \\end{bmatrix}$\n",
    "<br><br>\n",
    "$ \\begin{bmatrix} a_{11} & a_{12} & a_{13} \\\\ a_{21} & a_{22} & a_{23} \\\\ a_{31} & a_{32} & a_{33}\\end{bmatrix}\\begin{bmatrix} b_{11} & b_{12} & b_{13} \\\\ b_{21} & b_{22} & b_{23} \\\\ b_{31} & b_{32} & b_{33}\\end{bmatrix} = \\begin{bmatrix} a_{11}b_{11} + a_{12}b_{21} + a_{13}b_{31} & a_{11}b_{12} + a_{12}b_{22} + a_{13}b_{32} & a_{11}b_{13} + a_{12}b_{23} + a_{13}b_{33} \\\\ a_{21}b_{11} + a_{22}b_{21} + a_{23}b_{31} & a_{21}b_{12} + a_{22}b_{22} + a_{23}b_{32} & a_{21}b_{13} + a_{22}b_{23} + a_{23}b_{33} \\\\ a_{31}b_{11} + a_{32}b_{21} + a_{33}b_{31} & a_{31}b_{12} + a_{32}b_{22} + a_{32}b_{32} & a_{31}b_{13} + a_{32}b_{23} + a_{32}b_{33} \\end{bmatrix} $\n",
    "<br><br>\n",
    "$\\begin{bmatrix} a_{11} & a_{12} & a_{13} \\\\ a_{21} & a_{22} & a_{23} \\\\ a_{31} & a_{32} & a_{33}\\end{bmatrix} \\begin{bmatrix} b_{11} \\\\ b_{21} \\\\ b_{31}\\end{bmatrix} = \\begin{bmatrix} a_{11}b_{11} + a_{12}b_{21} + a_{13}b_{31} \\\\ a_{21}b_{11} + a_{22}b_{21} + a_{23}b_{31} \\\\ a_{31}b_{11} + a_{32}b_{21} + a_{33}b_{31}\\end{bmatrix}$\n",
    "<br><br>\n",
    "$\\begin{bmatrix} a_{11} & a_{12} & a_{13} \\\\ a_{21} & a_{22} & a_{23} \\\\ a_{31} & a_{32} & a_{33}\\end{bmatrix} \\begin{bmatrix} b_{12} \\\\ b_{22} \\\\ b_{32}\\end{bmatrix} = \\begin{bmatrix} a_{11}b_{12} + a_{12}b_{22} + a_{13}b_{32} \\\\ a_{21}b_{12} + a_{22}b_{22} + a_{23}b_{32} \\\\ a_{31}b_{12} + a_{32}b_{22} + a_{32}b_{32}\\end{bmatrix}$\n",
    "<br><br>\n",
    "$\\begin{bmatrix} a_{11} & a_{12} & a_{13} \\\\ a_{21} & a_{22} & a_{23} \\\\ a_{31} & a_{32} & a_{33}\\end{bmatrix} \\begin{bmatrix} b_{13} \\\\ b_{23} \\\\ b_{33}\\end{bmatrix} = \\begin{bmatrix} a_{11}b_{13} + a_{12}b_{23} + a_{13}b_{33} \\\\ a_{21}b_{13} + a_{22}b_{23} + a_{23}b_{33} \\\\ a_{31}b_{13} + a_{32}b_{23} + a_{32}b_{33}\\end{bmatrix}$\n",
    "<br><br>\n"
   ]
  },
  {
   "cell_type": "code",
   "execution_count": 10,
   "metadata": {},
   "outputs": [
    {
     "name": "stdout",
     "output_type": "stream",
     "text": [
      "[[ 6  6  6]\n",
      " [33 44 55]\n",
      " [ 6 10 14]]\n"
     ]
    }
   ],
   "source": [
    "M1 = np.array([[0,-2,2],[5,1,5],[1,4,-1]])\n",
    "M2 = np.array([[0,1,2],[3,4,5],[6,7,8]])\n",
    "M1M2 = M1 @ M2\n",
    "print(M1M2)"
   ]
  },
  {
   "cell_type": "code",
   "execution_count": null,
   "metadata": {},
   "outputs": [],
   "source": []
  },
  {
   "cell_type": "code",
   "execution_count": null,
   "metadata": {},
   "outputs": [],
   "source": []
  }
 ],
 "metadata": {
  "kernelspec": {
   "display_name": "Python 3",
   "language": "python",
   "name": "python3"
  },
  "language_info": {
   "codemirror_mode": {
    "name": "ipython",
    "version": 3
   },
   "file_extension": ".py",
   "mimetype": "text/x-python",
   "name": "python",
   "nbconvert_exporter": "python",
   "pygments_lexer": "ipython3",
   "version": "3.7.7"
  }
 },
 "nbformat": 4,
 "nbformat_minor": 4
}
